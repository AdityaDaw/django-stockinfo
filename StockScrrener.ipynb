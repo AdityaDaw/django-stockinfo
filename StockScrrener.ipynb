{
  "nbformat": 4,
  "nbformat_minor": 0,
  "metadata": {
    "colab": {
      "provenance": [],
      "mount_file_id": "1bPWXlkyE-wmuVyx4L0TG_lgxaptOGcS-",
      "authorship_tag": "ABX9TyNhPoL6b6ehO884hvgHyd4F",
      "include_colab_link": true
    },
    "kernelspec": {
      "name": "python3",
      "display_name": "Python 3"
    },
    "language_info": {
      "name": "python"
    }
  },
  "cells": [
    {
      "cell_type": "markdown",
      "metadata": {
        "id": "view-in-github",
        "colab_type": "text"
      },
      "source": [
        "<a href=\"https://colab.research.google.com/github/AdityaDaw/django-stockinfo/blob/master/StockScrrener.ipynb\" target=\"_parent\"><img src=\"https://colab.research.google.com/assets/colab-badge.svg\" alt=\"Open In Colab\"/></a>"
      ]
    },
    {
      "cell_type": "code",
      "execution_count": 4,
      "metadata": {
        "colab": {
          "base_uri": "https://localhost:8080/"
        },
        "id": "Cmisof0ErLrc",
        "outputId": "74626734-a8e8-493e-bb15-930485976460"
      },
      "outputs": [
        {
          "output_type": "stream",
          "name": "stdout",
          "text": [
            "Looking in indexes: https://pypi.org/simple, https://us-python.pkg.dev/colab-wheels/public/simple/\n",
            "Requirement already satisfied: beautifulsoup4 in /usr/local/lib/python3.7/dist-packages (4.6.3)\n"
          ]
        }
      ],
      "source": [
        "!pip install beautifulsoup4"
      ]
    },
    {
      "cell_type": "code",
      "source": [
        "data = {}"
      ],
      "metadata": {
        "id": "irakWqQ-ti0D"
      },
      "execution_count": 5,
      "outputs": []
    },
    {
      "cell_type": "code",
      "source": [
        "import requests\n",
        "from bs4 import BeautifulSoup\n",
        "\n",
        "\n",
        "# Making a GET request\n",
        "r = requests.get('https://www.screener.in/company/RELIANCE/consolidated/')\n",
        "\n",
        "# check status code for response received\n",
        "# success code - 200\n",
        "print(r)\n",
        "\n",
        "# Parsing the HTML\n",
        "soup = BeautifulSoup(r.content, 'html.parser')\n",
        "print(soup.prettify())"
      ],
      "metadata": {
        "id": "-Prc_czzsc0E"
      },
      "execution_count": null,
      "outputs": []
    },
    {
      "cell_type": "code",
      "source": [
        "heading = soup.find('h1')\n",
        "data['SCRIPT']=heading.text\n",
        "print(data['SCRIPT'])"
      ],
      "metadata": {
        "id": "J8UdvT5DtOyE",
        "colab": {
          "base_uri": "https://localhost:8080/"
        },
        "outputId": "0b43c5f4-7461-4f65-9966-80f3c33b47e2"
      },
      "execution_count": 7,
      "outputs": [
        {
          "output_type": "stream",
          "name": "stdout",
          "text": [
            "Reliance Industries Ltd\n"
          ]
        }
      ]
    },
    {
      "cell_type": "code",
      "source": [
        "from traitlets.traitlets import class_of\n",
        "topratios = soup.find(id='top-ratios').find_all('li')\n",
        "for item in topratios:\n",
        "  key = item.find(class_=\"name\").text.strip()\n",
        "  value =\"\"\n",
        "  if key == \"High / Low\":\n",
        "    values = item.find(class_=\"value\").find_all(class_=\"number\")\n",
        "    values = [x.text for x in values]\n",
        "    value = \"/\".join(values)\n",
        "  else:\n",
        "    value = item.find(class_=\"value\").find(class_=\"number\").text\n",
        "  data[key]=value"
      ],
      "metadata": {
        "id": "I3JCiLMkuUEP"
      },
      "execution_count": 8,
      "outputs": []
    },
    {
      "cell_type": "code",
      "source": [
        "for key,value in data.items():\n",
        "  print(f\" {key} --> {value}\")"
      ],
      "metadata": {
        "id": "ZOwUN_iRyfpB",
        "colab": {
          "base_uri": "https://localhost:8080/"
        },
        "outputId": "bae193e2-f07e-4f95-d762-be7405b7f563"
      },
      "execution_count": 9,
      "outputs": [
        {
          "output_type": "stream",
          "name": "stdout",
          "text": [
            " SCRIPT --> Reliance Industries Ltd\n",
            " Market Cap --> 1,605,049\n",
            " Current Price --> 2,372\n",
            " High / Low --> 2,856/2,180\n",
            " Stock P/E --> 25.0\n",
            " Book Value --> 1,152\n",
            " Dividend Yield --> 0.34\n",
            " ROCE --> 9.42\n",
            " ROE --> 8.16\n",
            " Face Value --> 10.0\n"
          ]
        }
      ]
    },
    {
      "cell_type": "code",
      "source": [
        "quarters = soup.find('section',id='quarters')\n",
        "quarter = quarters.find('h2').text.strip()\n",
        "data[quarter]={}\n",
        "heading =[x.text.strip() for x in quarters.find('table').find('thead').find_all(\"th\")]\n",
        "print(heading)\n",
        "tr = [[y.text.strip().replace(\"\\xa0+\",\"\") for y in x.find_all(\"td\")] for x in quarters.find('table').find('tbody').find_all(\"tr\")]\n",
        "print(tr)\n",
        "for row in tr:\n",
        "  innerdata={}\n",
        "  for columnNum in range(len(row)):\n",
        "    if columnNum!=0:\n",
        "      headingname = heading[columnNum]\n",
        "      listitem = row[columnNum]\n",
        "      innerdata[headingname]=listitem\n",
        "  data[quarter][row[0]]=innerdata\n",
        "  "
      ],
      "metadata": {
        "colab": {
          "base_uri": "https://localhost:8080/"
        },
        "id": "tm7oOXTwjna3",
        "outputId": "0228d640-cecb-4ef7-dde9-c9bbb413ba82"
      },
      "execution_count": 10,
      "outputs": [
        {
          "output_type": "stream",
          "name": "stdout",
          "text": [
            "['', 'Jun 2019', 'Sep 2019', 'Dec 2019', 'Mar 2020', 'Jun 2020', 'Sep 2020', 'Dec 2020', 'Mar 2021', 'Jun 2021', 'Sep 2021', 'Dec 2021', 'Mar 2022', 'Jun 2022']\n",
            "[['Sales', '157,980', '149,302', '153,302', '136,492', '88,253', '111,236', '117,860', '149,575', '139,949', '167,611', '185,027', '207,375', '219,304'], ['Expenses', '136,365', '127,150', '130,553', '114,487', '71,378', '92,291', '96,294', '126,224', '116,618', '141,591', '155,321', '176,009', '181,372'], ['Operating Profit', '21,615', '22,152', '22,749', '22,005', '16,875', '18,945', '21,566', '23,351', '23,331', '26,020', '29,706', '31,366', '37,932'], ['OPM %', '14%', '15%', '15%', '16%', '19%', '17%', '18%', '16%', '17%', '16%', '16%', '15%', '17%'], ['Other Income', '2,871', '3,668', '3,162', '-386', '9,676', '4,354', '4,407', '4,048', '4,219', '4,263', '7,016', '2,602', '2,247'], ['Interest', '5,109', '5,450', '5,404', '6,064', '6,735', '6,084', '4,326', '4,044', '3,397', '3,819', '3,812', '3,556', '3,997'], ['Depreciation', '5,011', '5,315', '5,545', '6,332', '6,308', '6,626', '6,665', '6,973', '6,883', '7,230', '7,683', '8,001', '8,946'], ['Profit before tax', '14,366', '15,055', '14,962', '9,223', '13,508', '10,589', '14,982', '16,382', '17,270', '19,234', '25,227', '22,411', '27,236'], ['Tax %', '29%', '25%', '21%', '29%', '2%', '-0%', '1%', '8%', '20%', '20%', '19%', '20%', '29%'], ['Net Profit', '10,141', '11,352', '11,841', '6,546', '13,248', '10,602', '14,894', '14,995', '13,806', '15,479', '20,539', '18,021', '19,443'], ['EPS in Rs', '14.94', '16.66', '17.21', '9.39', '20.87', '15.09', '20.67', '20.86', '19.36', '21.58', '27.42', '23.95', '26.54'], ['Raw PDF', '', '', '', '', '', '', '', '', '', '', '', '', '']]\n"
          ]
        }
      ]
    },
    {
      "cell_type": "code",
      "source": [
        "quarters = soup.find('section',id='profit-loss')\n",
        "quarter = quarters.find('h2').text.strip()\n",
        "data[quarter]={}\n",
        "heading =[x.text.strip() for x in quarters.find('table').find('thead').find_all(\"th\")]\n",
        "print(heading)\n",
        "tr = [[y.text.strip().replace(\"\\xa0+\",\"\") for y in x.find_all(\"td\")] for x in quarters.find('table').find('tbody').find_all(\"tr\")]\n",
        "print(tr)\n",
        "for row in tr:\n",
        "  innerdata={}\n",
        "  for columnNum in range(len(row)):\n",
        "    if columnNum!=0:\n",
        "      headingname = heading[columnNum]\n",
        "      listitem = row[columnNum]\n",
        "      innerdata[headingname]=listitem\n",
        "  data[quarter][row[0]]=innerdata"
      ],
      "metadata": {
        "colab": {
          "base_uri": "https://localhost:8080/"
        },
        "outputId": "99e49304-e57f-49bd-d6bf-6109b713df8c",
        "id": "XHpO2DHk4nPp"
      },
      "execution_count": 11,
      "outputs": [
        {
          "output_type": "stream",
          "name": "stdout",
          "text": [
            "['', 'Mar 2011', 'Mar 2012', 'Mar 2013', 'Mar 2014', 'Mar 2015', 'Mar 2016', 'Mar 2017', 'Mar 2018', 'Mar 2019', 'Mar 2020', 'Mar 2021', 'Mar 2022', 'TTM']\n",
            "[['Sales', '265,050', '357,677', '395,957', '433,521', '374,372', '272,583', '303,954', '390,823', '568,337', '596,679', '466,307', '698,672', '779,317'], ['Expenses', '226,427', '324,501', '362,802', '398,586', '336,923', '230,802', '257,647', '326,508', '484,087', '507,413', '385,517', '588,077', '654,293'], ['Operating Profit', '38,623', '33,176', '33,155', '34,935', '37,449', '41,781', '46,307', '64,315', '84,250', '89,266', '80,790', '110,595', '125,024'], ['OPM %', '15%', '9%', '8%', '8%', '10%', '15%', '15%', '16%', '15%', '15%', '17%', '16%', '16%'], ['Other Income', '1,964', '7,526', '7,757', '8,865', '8,528', '12,212', '9,222', '9,869', '8,406', '8,570', '22,432', '17,928', '16,128'], ['Interest', '2,411', '2,893', '3,463', '3,836', '3,316', '3,691', '3,849', '8,052', '16,495', '22,027', '21,189', '14,584', '15,184'], ['Depreciation', '14,121', '12,401', '11,232', '11,201', '11,547', '11,565', '11,646', '16,706', '20,934', '22,203', '26,572', '29,797', '31,860'], ['Profit before tax', '24,055', '25,408', '26,217', '28,763', '31,114', '38,737', '40,034', '49,426', '55,227', '53,606', '55,461', '84,142', '94,108'], ['Tax %', '20%', '22%', '20%', '22%', '24%', '23%', '25%', '27%', '28%', '26%', '3%', '19%', ''], ['Net Profit', '19,272', '19,717', '20,886', '22,548', '23,640', '29,861', '29,833', '36,080', '39,837', '39,880', '53,739', '67,845', '73,482'], ['EPS in Rs', '27.63', '28.27', '30.31', '32.62', '34.14', '43.03', '43.11', '53.39', '58.55', '58.20', '77.50', '89.74', '99.49'], ['Dividend Payout %', '12%', '13%', '13%', '12%', '12%', '10%', '11%', '10%', '10%', '10%', '9%', '9%', '']]\n"
          ]
        }
      ]
    },
    {
      "cell_type": "code",
      "source": [
        "quarters = soup.find('section',id='balance-sheet')\n",
        "quarter = quarters.find('h2').text.strip()\n",
        "data[quarter]={}\n",
        "heading =[x.text.strip() for x in quarters.find('table').find('thead').find_all(\"th\")]\n",
        "print(heading)\n",
        "tr = [[y.text.strip().replace(\"\\xa0+\",\"\") for y in x.find_all(\"td\")] for x in quarters.find('table').find('tbody').find_all(\"tr\")]\n",
        "print(tr)\n",
        "for row in tr:\n",
        "  innerdata={}\n",
        "  for columnNum in range(len(row)):\n",
        "    if columnNum!=0:\n",
        "      headingname = heading[columnNum]\n",
        "      listitem = row[columnNum]\n",
        "      innerdata[headingname]=listitem\n",
        "  data[quarter][row[0]]=innerdata"
      ],
      "metadata": {
        "colab": {
          "base_uri": "https://localhost:8080/"
        },
        "id": "VbR8N33n5a6v",
        "outputId": "6e0c139e-a5ad-4cd3-8bcd-020854bee2e4"
      },
      "execution_count": 12,
      "outputs": [
        {
          "output_type": "stream",
          "name": "stdout",
          "text": [
            "['', 'Mar 2011', 'Mar 2012', 'Mar 2013', 'Mar 2014', 'Mar 2015', 'Mar 2016', 'Mar 2017', 'Mar 2018', 'Mar 2019', 'Mar 2020', 'Mar 2021', 'Mar 2022']\n",
            "[['Share Capital', '2,981', '2,979', '2,936', '2,940', '2,943', '2,948', '2,959', '5,922', '5,926', '6,339', '6,445', '6,765'], ['Reserves', '151,112', '166,466', '179,094', '195,730', '215,539', '228,600', '260,746', '287,569', '381,184', '442,826', '653,884', '772,720'], ['Borrowings', '84,152', '92,447', '107,219', '138,761', '168,251', '194,714', '217,475', '239,843', '307,714', '355,133', '278,962', '319,158'], ['Other Liabilities', '69,274', '65,299', '73,108', '91,412', '117,753', '172,735', '225,622', '277,939', '302,806', '358,717', '380,774', '399,979'], ['Total Liabilities', '307,519', '327,191', '362,357', '428,843', '504,486', '598,997', '706,802', '811,273', '997,630', '1,163,015', '1,320,065', '1,498,622'], ['Fixed Assets', '158,100', '138,814', '133,487', '141,417', '156,458', '184,910', '198,526', '403,885', '398,374', '532,658', '541,258', '627,798'], ['CWIP', '28,174', '25,363', '49,952', '91,494', '166,462', '228,697', '324,837', '187,022', '179,463', '109,106', '125,953', '172,506'], ['Investments', '21,596', '38,596', '42,848', '60,602', '76,451', '84,015', '82,899', '82,862', '235,635', '276,767', '364,828', '394,264'], ['Other Assets', '99,649', '124,418', '136,070', '135,330', '105,115', '101,375', '100,540', '137,504', '184,158', '244,484', '288,026', '304,054'], ['Total Assets', '307,519', '327,191', '362,357', '428,843', '504,486', '598,997', '706,802', '811,273', '997,630', '1,163,015', '1,320,065', '1,498,622']]\n"
          ]
        }
      ]
    },
    {
      "cell_type": "code",
      "source": [
        "quarters = soup.find('section',id='cash-flow')\n",
        "quarter = quarters.find('h2').text.strip()\n",
        "data[quarter]={}\n",
        "heading =[x.text.strip() for x in quarters.find('table').find('thead').find_all(\"th\")]\n",
        "print(heading)\n",
        "tr = [[y.text.strip().replace(\"\\xa0+\",\"\") for y in x.find_all(\"td\")] for x in quarters.find('table').find('tbody').find_all(\"tr\")]\n",
        "print(tr)\n",
        "for row in tr:\n",
        "  innerdata={}\n",
        "  for columnNum in range(len(row)):\n",
        "    if columnNum!=0:\n",
        "      headingname = heading[columnNum]\n",
        "      listitem = row[columnNum]\n",
        "      innerdata[headingname]=listitem\n",
        "  data[quarter][row[0]]=innerdata"
      ],
      "metadata": {
        "colab": {
          "base_uri": "https://localhost:8080/"
        },
        "id": "Yc6gZTma6AdW",
        "outputId": "ffe0d469-4783-4c22-f627-fcb205614af5"
      },
      "execution_count": 13,
      "outputs": [
        {
          "output_type": "stream",
          "name": "stdout",
          "text": [
            "['', 'Mar 2011', 'Mar 2012', 'Mar 2013', 'Mar 2014', 'Mar 2015', 'Mar 2016', 'Mar 2017', 'Mar 2018', 'Mar 2019', 'Mar 2020', 'Mar 2021', 'Mar 2022']\n",
            "[['Cash from Operating Activity', '33,338', '24,483', '36,918', '43,261', '34,374', '38,134', '49,550', '71,459', '42,346', '94,877', '26,958', '110,654'], ['Cash from Investing Activity', '-32,040', '-6,301', '-27,601', '-73,070', '-64,706', '-36,186', '-66,201', '-68,192', '-94,507', '-72,497', '-142,385', '-109,162'], ['Cash from Financing Activity', '14,950', '-7,590', '408', '13,713', '8,444', '-3,210', '8,617', '-2,001', '55,906', '-2,541', '101,904', '17,289'], ['Net Cash Flow', '16,248', '10,592', '9,725', '-16,096', '-21,888', '-1,262', '-8,034', '1,266', '3,745', '19,839', '-13,523', '18,781']]\n"
          ]
        }
      ]
    },
    {
      "cell_type": "code",
      "source": [
        "quarters = soup.find('section',id='ratios')\n",
        "quarter = quarters.find('h2').text.strip()\n",
        "data[quarter]={}\n",
        "heading =[x.text.strip() for x in quarters.find('table').find('thead').find_all(\"th\")]\n",
        "print(heading)\n",
        "tr = [[y.text.strip().replace(\"\\xa0+\",\"\") for y in x.find_all(\"td\")] for x in quarters.find('table').find('tbody').find_all(\"tr\")]\n",
        "print(tr)\n",
        "for row in tr:\n",
        "  innerdata={}\n",
        "  for columnNum in range(len(row)):\n",
        "    if columnNum!=0:\n",
        "      headingname = heading[columnNum]\n",
        "      listitem = row[columnNum]\n",
        "      innerdata[headingname]=listitem\n",
        "  data[quarter][row[0]]=innerdata"
      ],
      "metadata": {
        "colab": {
          "base_uri": "https://localhost:8080/"
        },
        "id": "np36zTM-6t3S",
        "outputId": "6b7880bc-b7fd-42f8-e3b4-965470d0c12c"
      },
      "execution_count": 14,
      "outputs": [
        {
          "output_type": "stream",
          "name": "stdout",
          "text": [
            "['', 'Mar 2011', 'Mar 2012', 'Mar 2013', 'Mar 2014', 'Mar 2015', 'Mar 2016', 'Mar 2017', 'Mar 2018', 'Mar 2019', 'Mar 2020', 'Mar 2021', 'Mar 2022']\n",
            "[['Debtor Days', '22', '17', '9', '8', '5', '6', '10', '16', '19', '12', '15', '12'], ['Inventory Days', '69', '57', '60', '57', '66', '90', '84', '83', '63', '67', '102', '83'], ['Days Payable', '64', '49', '55', '61', '74', '117', '132', '146', '100', '87', '136', '122'], ['Cash Conversion Cycle', '26', '25', '14', '4', '-2', '-21', '-38', '-46', '-18', '-9', '-19', '-27'], ['Working Capital Days', '2', '15', '-1', '-3', '-37', '-117', '-141', '-144', '-67', '-101', '12', '-13'], ['ROCE %', '12%', '11%', '10%', '10%', '9%', '10%', '10%', '11%', '12%', '11%', '8%', '9%']]\n"
          ]
        }
      ]
    },
    {
      "cell_type": "code",
      "source": [
        "quarters = soup.find('section',id='shareholding')\n",
        "quarter = quarters.find('h2').text\n",
        "data[quarter]={}\n",
        "heading =[x.text.strip() for x in quarters.find('table').find('thead').find_all(\"th\")]\n",
        "print(heading)\n",
        "tr = [[y.text.strip().replace(\"\\xa0+\",\"\") for y in x.find_all(\"td\")] for x in quarters.find('table').find('tbody').find_all(\"tr\")]\n",
        "print(tr)\n",
        "for row in tr:\n",
        "  innerdata={}\n",
        "  for columnNum in range(len(row)):\n",
        "    if columnNum!=0:\n",
        "      headingname = heading[columnNum]\n",
        "      listitem = row[columnNum]\n",
        "      innerdata[headingname]=listitem\n",
        "  data[quarter][row[0]]=innerdata"
      ],
      "metadata": {
        "colab": {
          "base_uri": "https://localhost:8080/"
        },
        "id": "h1bAXL2u7OmE",
        "outputId": "e817e206-6a77-4493-9e3f-ec1050e464f0"
      },
      "execution_count": 15,
      "outputs": [
        {
          "output_type": "stream",
          "name": "stdout",
          "text": [
            "['', 'Sep 2019', 'Dec 2019', 'Mar 2020', 'Jun 2020', 'Sep 2020', 'Dec 2020', 'Mar 2021', 'Jun 2021', 'Sep 2021', 'Dec 2021', 'Mar 2022', 'Jun 2022']\n",
            "[['Promoters', '50.05', '50.03', '50.07', '50.37', '50.49', '50.54', '50.58', '50.59', '50.61', '50.61', '50.66', '50.62'], ['FIIs', '23.76', '24.54', '24.08', '24.75', '25.23', '25.18', '25.66', '25.11', '25.41', '24.75', '24.23', '23.90'], ['DIIs', '14.36', '13.75', '13.78', '13.58', '13.15', '12.90', '12.62', '13.09', '13.20', '13.62', '14.23', '14.67'], ['Government', '0.19', '0.19', '0.20', '0.21', '0.20', '0.20', '0.20', '0.18', '0.18', '0.17', '0.17', '0.17'], ['Public', '11.65', '11.49', '11.87', '11.10', '10.93', '11.19', '10.94', '11.03', '10.60', '10.85', '10.71', '10.64']]\n"
          ]
        }
      ]
    },
    {
      "cell_type": "code",
      "source": [
        "from google.colab import drive\n",
        "drive.mount('/gdrive')"
      ],
      "metadata": {
        "colab": {
          "base_uri": "https://localhost:8080/"
        },
        "id": "cqa79fcB8AYq",
        "outputId": "c804ae7a-e14c-4e9d-de9a-8a01a155b444"
      },
      "execution_count": 16,
      "outputs": [
        {
          "output_type": "stream",
          "name": "stdout",
          "text": [
            "Drive already mounted at /gdrive; to attempt to forcibly remount, call drive.mount(\"/gdrive\", force_remount=True).\n"
          ]
        }
      ]
    },
    {
      "cell_type": "code",
      "source": [
        "import json\n",
        "json_object = json.dumps(data,indent=4)\n",
        "with open(\"/content/drive/MyDrive/screener_json/sample.json\", \"w\") as outfile:\n",
        "    outfile.write(json_object)"
      ],
      "metadata": {
        "id": "x1WdPi2K9EA8"
      },
      "execution_count": 18,
      "outputs": []
    }
  ]
}